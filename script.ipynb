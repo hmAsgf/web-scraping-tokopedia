{
 "cells": [
  {
   "cell_type": "markdown",
   "metadata": {},
   "source": [
    "IMPORT LIBRARIES"
   ]
  },
  {
   "cell_type": "code",
   "execution_count": 1,
   "metadata": {},
   "outputs": [],
   "source": [
    "from selenium import webdriver\n",
    "from selenium.webdriver.chrome.service import Service\n",
    "from bs4 import BeautifulSoup\n",
    "import pandas as pd\n",
    "import time\n",
    "import requests\n",
    "import os"
   ]
  },
  {
   "cell_type": "markdown",
   "metadata": {},
   "source": [
    "SETUP WEBDRIVER"
   ]
  },
  {
   "cell_type": "code",
   "execution_count": 6,
   "metadata": {},
   "outputs": [],
   "source": [
    "option = webdriver.ChromeOptions()\n",
    "option.add_argument('--headless')\n",
    "option.add_argument('user-agent=Mozilla/5.0 (Windows NT 10.0; Win64; x64) AppleWebKit/537.36 (KHTML, like Gecko) Chrome/115.0.0.0 Safari/537.36')\n",
    "\n",
    "service = Service('../chromedriver-win32/chromedriver.exe')\n",
    "driver = webdriver.Chrome(service=service, options=option)\n",
    "\n",
    "driver.set_window_size(1300, 800)"
   ]
  },
  {
   "cell_type": "markdown",
   "metadata": {},
   "source": [
    "ACCESS WEB"
   ]
  },
  {
   "cell_type": "code",
   "execution_count": 7,
   "metadata": {},
   "outputs": [],
   "source": [
    "keyword = 'sepatu'\n",
    "URL = f'https://www.tokopedia.com/search?st=&q={keyword}'\n",
    "\n",
    "driver.get(URL)\n",
    "\n",
    "pixel = 1000    # size scroll in pixel\n",
    "for i in range(1, 7):   # 6 x scroll\n",
    "    scroll = pixel * i\n",
    "    js = f'window.scrollTo(0, {str(scroll)})'\n",
    "    driver.execute_script(js)\n",
    "    time.sleep(1)\n",
    "\n",
    "time.sleep(5)\n",
    "driver.save_screenshot('screenshot.png')\n",
    "\n",
    "pageSource = driver.page_source\n",
    "driver.quit()"
   ]
  },
  {
   "cell_type": "markdown",
   "metadata": {},
   "source": [
    "SCRAPING"
   ]
  },
  {
   "cell_type": "code",
   "execution_count": 15,
   "metadata": {},
   "outputs": [],
   "source": [
    "content = BeautifulSoup(pageSource, 'html.parser')\n",
    "items = content.findAll('div', 'pcv3__container css-gfx8z3')\n",
    "\n",
    "imageList, nameList, priceList, locationList, shopList, ratingList, soldList, linkList = [], [], [], [], [], [], [], []\n",
    "i = 1\n",
    "\n",
    "for item in items:\n",
    "    image = item.find('img', 'css-1q90pod')['src']\n",
    "    name = item.find('div', 'prd_link-product-name css-3um8ox').text\n",
    "    price = item.find('div', 'prd_link-product-price css-1ksb19c').text\n",
    "    location = item.find('span', 'prd_link-shop-loc css-1kdc32b flip')\n",
    "    shop = item.find('span', 'prd_link-shop-name css-1kdc32b flip')\n",
    "    rating = item.find('span', 'prd_rating-average-text css-t70v7i')\n",
    "    sold = item.find('span', 'prd_label-integrity css-1duhs3e')\n",
    "    link = item.find('a', 'pcv3__info-content css-gwkf0u')['href']\n",
    "\n",
    "    if location: location = location.text\n",
    "    if shop: shop = shop.text\n",
    "    if rating: rating = rating.text\n",
    "    if sold: sold = sold.text\n",
    "\n",
    "    imageList.append(image)\n",
    "    nameList.append(name)\n",
    "    priceList.append(price)\n",
    "    locationList.append(location)\n",
    "    shopList.append(shop)\n",
    "    ratingList.append(rating)\n",
    "    soldList.append(sold)\n",
    "    linkList.append(link)\n",
    "\n",
    "    res = requests.get(image)\n",
    "    if res.status_code == 200:\n",
    "        image_data = res.content\n",
    "        image_name = ''.join(filter(str.isalnum, name))\n",
    "        image_filename = os.path.join('images', f'{image_name}.jpg')\n",
    "        with open(image_filename, 'wb') as f:\n",
    "            f.write(image_data)\n",
    "            i += 1"
   ]
  },
  {
   "cell_type": "markdown",
   "metadata": {},
   "source": [
    "DATAFRAME"
   ]
  },
  {
   "cell_type": "code",
   "execution_count": 16,
   "metadata": {},
   "outputs": [
    {
     "data": {
      "text/html": [
       "<div>\n",
       "<style scoped>\n",
       "    .dataframe tbody tr th:only-of-type {\n",
       "        vertical-align: middle;\n",
       "    }\n",
       "\n",
       "    .dataframe tbody tr th {\n",
       "        vertical-align: top;\n",
       "    }\n",
       "\n",
       "    .dataframe thead th {\n",
       "        text-align: right;\n",
       "    }\n",
       "</style>\n",
       "<table border=\"1\" class=\"dataframe\">\n",
       "  <thead>\n",
       "    <tr style=\"text-align: right;\">\n",
       "      <th></th>\n",
       "      <th>Product Name</th>\n",
       "      <th>Price</th>\n",
       "      <th>Location</th>\n",
       "      <th>Shop Name</th>\n",
       "      <th>Rating</th>\n",
       "      <th>Sold</th>\n",
       "      <th>Image</th>\n",
       "      <th>Link</th>\n",
       "    </tr>\n",
       "  </thead>\n",
       "  <tbody>\n",
       "    <tr>\n",
       "      <th>0</th>\n",
       "      <td>Sepatu wanita sneakers import 007 - maroon, 39</td>\n",
       "      <td>Rp 89.000</td>\n",
       "      <td>None</td>\n",
       "      <td>None</td>\n",
       "      <td>4.4</td>\n",
       "      <td>Terjual 8</td>\n",
       "      <td>https://images.tokopedia.net/img/cache/200-squ...</td>\n",
       "      <td>https://ta.tokopedia.com/promo/v1/clicks/8a-xg...</td>\n",
       "    </tr>\n",
       "    <tr>\n",
       "      <th>1</th>\n",
       "      <td>Sepatu sneakers pria import 00003</td>\n",
       "      <td>Rp 149.000</td>\n",
       "      <td>None</td>\n",
       "      <td>None</td>\n",
       "      <td>4.7</td>\n",
       "      <td>Terjual 22</td>\n",
       "      <td>https://images.tokopedia.net/img/cache/200-squ...</td>\n",
       "      <td>https://ta.tokopedia.com/promo/v1/clicks/8a-xg...</td>\n",
       "    </tr>\n",
       "    <tr>\n",
       "      <th>2</th>\n",
       "      <td>Sepatu pria sneakers 009 import</td>\n",
       "      <td>Rp 129.900</td>\n",
       "      <td>None</td>\n",
       "      <td>None</td>\n",
       "      <td>5.0</td>\n",
       "      <td>Terjual 11</td>\n",
       "      <td>https://images.tokopedia.net/img/cache/200-squ...</td>\n",
       "      <td>https://ta.tokopedia.com/promo/v1/clicks/8a-xg...</td>\n",
       "    </tr>\n",
       "    <tr>\n",
       "      <th>3</th>\n",
       "      <td>Loro Piona Mules Suede Sepatu Wanita VVIP Qual...</td>\n",
       "      <td>Rp1.300.000</td>\n",
       "      <td>Jakarta Utara</td>\n",
       "      <td>moca_fashionluxe</td>\n",
       "      <td>5.0</td>\n",
       "      <td>Terjual 23</td>\n",
       "      <td>https://images.tokopedia.net/img/cache/200-squ...</td>\n",
       "      <td>https://ta.tokopedia.com/promo/v1/clicks/8a-xg...</td>\n",
       "    </tr>\n",
       "    <tr>\n",
       "      <th>4</th>\n",
       "      <td>Sepatu NB 550 LDW Green - BB550ALD - 40</td>\n",
       "      <td>Rp785.000</td>\n",
       "      <td>Jakarta Barat</td>\n",
       "      <td>AUF SHOES</td>\n",
       "      <td>5.0</td>\n",
       "      <td>Terjual 5</td>\n",
       "      <td>https://images.tokopedia.net/img/cache/200-squ...</td>\n",
       "      <td>https://ta.tokopedia.com/promo/v1/clicks/8a-xg...</td>\n",
       "    </tr>\n",
       "  </tbody>\n",
       "</table>\n",
       "</div>"
      ],
      "text/plain": [
       "                                        Product Name        Price  \\\n",
       "0     Sepatu wanita sneakers import 007 - maroon, 39    Rp 89.000   \n",
       "1                  Sepatu sneakers pria import 00003   Rp 149.000   \n",
       "2                    Sepatu pria sneakers 009 import   Rp 129.900   \n",
       "3  Loro Piona Mules Suede Sepatu Wanita VVIP Qual...  Rp1.300.000   \n",
       "4            Sepatu NB 550 LDW Green - BB550ALD - 40    Rp785.000   \n",
       "\n",
       "        Location         Shop Name Rating        Sold  \\\n",
       "0           None              None    4.4   Terjual 8   \n",
       "1           None              None    4.7  Terjual 22   \n",
       "2           None              None    5.0  Terjual 11   \n",
       "3  Jakarta Utara  moca_fashionluxe    5.0  Terjual 23   \n",
       "4  Jakarta Barat         AUF SHOES    5.0   Terjual 5   \n",
       "\n",
       "                                               Image  \\\n",
       "0  https://images.tokopedia.net/img/cache/200-squ...   \n",
       "1  https://images.tokopedia.net/img/cache/200-squ...   \n",
       "2  https://images.tokopedia.net/img/cache/200-squ...   \n",
       "3  https://images.tokopedia.net/img/cache/200-squ...   \n",
       "4  https://images.tokopedia.net/img/cache/200-squ...   \n",
       "\n",
       "                                                Link  \n",
       "0  https://ta.tokopedia.com/promo/v1/clicks/8a-xg...  \n",
       "1  https://ta.tokopedia.com/promo/v1/clicks/8a-xg...  \n",
       "2  https://ta.tokopedia.com/promo/v1/clicks/8a-xg...  \n",
       "3  https://ta.tokopedia.com/promo/v1/clicks/8a-xg...  \n",
       "4  https://ta.tokopedia.com/promo/v1/clicks/8a-xg...  "
      ]
     },
     "execution_count": 16,
     "metadata": {},
     "output_type": "execute_result"
    }
   ],
   "source": [
    "data = {'Product Name': nameList, 'Price': priceList, 'Location': locationList, 'Shop Name': shopList,\n",
    "        'Rating': ratingList, 'Sold': soldList, 'Image': imageList, 'Link': linkList}\n",
    "\n",
    "dataframe = pd.DataFrame(data)\n",
    "dataframe.head()"
   ]
  },
  {
   "cell_type": "code",
   "execution_count": 17,
   "metadata": {},
   "outputs": [],
   "source": [
    "# Export to CSV\n",
    "dataframe.to_csv('Data Products.csv', index=False)"
   ]
  },
  {
   "cell_type": "code",
   "execution_count": null,
   "metadata": {},
   "outputs": [],
   "source": []
  }
 ],
 "metadata": {
  "kernelspec": {
   "display_name": "Python 3",
   "language": "python",
   "name": "python3"
  },
  "language_info": {
   "codemirror_mode": {
    "name": "ipython",
    "version": 3
   },
   "file_extension": ".py",
   "mimetype": "text/x-python",
   "name": "python",
   "nbconvert_exporter": "python",
   "pygments_lexer": "ipython3",
   "version": "3.10.7"
  },
  "orig_nbformat": 4
 },
 "nbformat": 4,
 "nbformat_minor": 2
}
